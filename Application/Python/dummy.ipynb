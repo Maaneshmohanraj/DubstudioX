{
 "cells": [
  {
   "cell_type": "code",
   "execution_count": 28,
   "metadata": {},
   "outputs": [
    {
     "name": "stdout",
     "output_type": "stream",
     "text": [
      "Requirement already satisfied: googletrans==3.1.0a0 in c:\\users\\pradh\\appdata\\local\\programs\\python\\python311\\lib\\site-packages (3.1.0a0)\n",
      "Requirement already satisfied: httpx==0.13.3 in c:\\users\\pradh\\appdata\\local\\programs\\python\\python311\\lib\\site-packages (from googletrans==3.1.0a0) (0.13.3)\n",
      "Requirement already satisfied: certifi in c:\\users\\pradh\\appdata\\local\\programs\\python\\python311\\lib\\site-packages (from httpx==0.13.3->googletrans==3.1.0a0) (2023.7.22)\n",
      "Requirement already satisfied: hstspreload in c:\\users\\pradh\\appdata\\local\\programs\\python\\python311\\lib\\site-packages (from httpx==0.13.3->googletrans==3.1.0a0) (2023.1.1)\n",
      "Requirement already satisfied: sniffio in c:\\users\\pradh\\appdata\\local\\programs\\python\\python311\\lib\\site-packages (from httpx==0.13.3->googletrans==3.1.0a0) (1.3.0)\n",
      "Requirement already satisfied: chardet==3.* in c:\\users\\pradh\\appdata\\local\\programs\\python\\python311\\lib\\site-packages (from httpx==0.13.3->googletrans==3.1.0a0) (3.0.4)\n",
      "Requirement already satisfied: idna==2.* in c:\\users\\pradh\\appdata\\local\\programs\\python\\python311\\lib\\site-packages (from httpx==0.13.3->googletrans==3.1.0a0) (2.10)\n",
      "Requirement already satisfied: rfc3986<2,>=1.3 in c:\\users\\pradh\\appdata\\local\\programs\\python\\python311\\lib\\site-packages (from httpx==0.13.3->googletrans==3.1.0a0) (1.5.0)\n",
      "Requirement already satisfied: httpcore==0.9.* in c:\\users\\pradh\\appdata\\local\\programs\\python\\python311\\lib\\site-packages (from httpx==0.13.3->googletrans==3.1.0a0) (0.9.1)\n",
      "Requirement already satisfied: h11<0.10,>=0.8 in c:\\users\\pradh\\appdata\\local\\programs\\python\\python311\\lib\\site-packages (from httpcore==0.9.*->httpx==0.13.3->googletrans==3.1.0a0) (0.9.0)\n",
      "Requirement already satisfied: h2==3.* in c:\\users\\pradh\\appdata\\local\\programs\\python\\python311\\lib\\site-packages (from httpcore==0.9.*->httpx==0.13.3->googletrans==3.1.0a0) (3.2.0)\n",
      "Requirement already satisfied: hyperframe<6,>=5.2.0 in c:\\users\\pradh\\appdata\\local\\programs\\python\\python311\\lib\\site-packages (from h2==3.*->httpcore==0.9.*->httpx==0.13.3->googletrans==3.1.0a0) (5.2.0)\n",
      "Requirement already satisfied: hpack<4,>=3.0 in c:\\users\\pradh\\appdata\\local\\programs\\python\\python311\\lib\\site-packages (from h2==3.*->httpcore==0.9.*->httpx==0.13.3->googletrans==3.1.0a0) (3.0.0)\n"
     ]
    }
   ],
   "source": [
    "!pip install googletrans==3.1.0a0\n"
   ]
  },
  {
   "cell_type": "code",
   "execution_count": 29,
   "metadata": {},
   "outputs": [],
   "source": [
    "lt=[\"A duty well performed creates a corresponding right.-Gandhi\",\" However good a Constitution may be, if those who are implementing it are not good, it will prove to be bad. However, bad a Constitution may be, if those implementing it are good, it will prove to be good- BR Ambedkar \",\"So long as you do not achieve social justice, whatever freedom is provided by the law to you will be of no avail-BR Ambedkar\",\"By common endeavor we can raise the country to a new greatness, while a lack of unity will expose us to fresh calamities-Sardar Vallabhai Patel\",\"Non-violence has to be observed in thought, word and deed. The measure of our non-violence will be the measure of our success-Sardar Vallabhai Patel\",\"One individual may die for an idea but that idea will after his death incarnate itself in a thousand lives-SC Bose\",\"Every nation has a message to deliver, a mission to fulfill, a destiny to reach. The mission of India has been to guide humanity-Swami Vivekananda\",\"We want deeper sincerity of motive, a greater courage in speech and earnestness in action-Sarojini Naidu\",\"As a young citizen of India, armed with technology and love for my nation, I realize, a small aim is a crime- APJ Abdul Kalam\",\"A duty religiously performed carries with it several other important consequences-Gandhi\",\"A man can give up a right, but he may not give up a duty without being guilty of a grave dereliction-Gandhi\",\"A nation’s culture resides in the hearts and in the souls of its people.-Gandhi\"]"
   ]
  },
  {
   "cell_type": "code",
   "execution_count": 4,
   "metadata": {},
   "outputs": [
    {
     "ename": "NameError",
     "evalue": "name 'lt' is not defined",
     "output_type": "error",
     "traceback": [
      "\u001b[1;31m---------------------------------------------------------------------------\u001b[0m",
      "\u001b[1;31mNameError\u001b[0m                                 Traceback (most recent call last)",
      "Cell \u001b[1;32mIn[4], line 3\u001b[0m\n\u001b[0;32m      1\u001b[0m \u001b[39mfrom\u001b[39;00m \u001b[39mgoogletrans\u001b[39;00m \u001b[39mimport\u001b[39;00m Translator\n\u001b[0;32m      2\u001b[0m converted_ml\u001b[39m=\u001b[39m[]\n\u001b[1;32m----> 3\u001b[0m \u001b[39mfor\u001b[39;00m i \u001b[39min\u001b[39;00m lt:\n\u001b[0;32m      4\u001b[0m     trans\u001b[39m=\u001b[39mTranslator(service_urls\u001b[39m=\u001b[39m[\u001b[39m'\u001b[39m\u001b[39mtranslate.googleapis.com\u001b[39m\u001b[39m'\u001b[39m])\n\u001b[0;32m      5\u001b[0m     target\u001b[39m=\u001b[39mtrans\u001b[39m.\u001b[39mtranslate(i,dest\u001b[39m=\u001b[39m\u001b[39m\"\u001b[39m\u001b[39mml\u001b[39m\u001b[39m\"\u001b[39m)\n",
      "\u001b[1;31mNameError\u001b[0m: name 'lt' is not defined"
     ]
    }
   ],
   "source": [
    "from googletrans import Translator\n",
    "converted_ml=[]\n",
    "for i in lt:\n",
    "    trans=Translator(service_urls=['translate.googleapis.com'])\n",
    "    target=trans.translate(i,dest=\"ml\")\n",
    "    converted_ml.append(target.text)\n"
   ]
  },
  {
   "cell_type": "code",
   "execution_count": 37,
   "metadata": {},
   "outputs": [
    {
     "data": {
      "text/plain": [
       "12"
      ]
     },
     "execution_count": 37,
     "metadata": {},
     "output_type": "execute_result"
    }
   ],
   "source": [
    "len(converted_mr)"
   ]
  },
  {
   "cell_type": "code",
   "execution_count": 38,
   "metadata": {},
   "outputs": [
    {
     "data": {
      "text/plain": [
       "(['சிறப்பாகச் செய்த கடமை அதற்கேற்ற உரிமையை உருவாக்குகிறது.-காந்தி',\n",
       "  'அரசியலமைப்புச் சட்டம் எவ்வளவு நல்லதாக இருந்தாலும், அதைச் செயல்படுத்துபவர்கள் நல்லவர்களாக இல்லாவிட்டால், அது மோசமானதாகவே நிரூபிக்கப்படும். இருப்பினும், ஒரு அரசியலமைப்பு மோசமானதாக இருக்கலாம், அதை செயல்படுத்துபவர்கள் நல்லவர்களாக இருந்தால், அது நல்லதாக இருக்கும் - பி.ஆர்.அம்பேத்கர்',\n",
       "  'நீங்கள் சமூக நீதியை அடையாத வரை, சட்டம் உங்களுக்கு என்ன சுதந்திரம் அளித்தாலும் பலனில்லை - பி.ஆர்.அம்பேத்கர்',\n",
       "  'பொதுவான முயற்சியால் நாட்டைப் புதிய மகத்துவத்துக்கு உயர்த்த முடியும், அதே சமயம் ஒற்றுமையின்மை நம்மை புதிய பேரழிவுகளுக்கு ஆளாக்கும் - சர்தார் வல்லபாய் படேல்',\n",
       "  'எண்ணம், சொல், செயலில் அகிம்சையைக் கடைப்பிடிக்க வேண்டும். நமது அகிம்சையின் அளவுகோல் நமது வெற்றியின் அளவுகோலாக இருக்கும் - சர்தார் வல்லபாய் படேல்',\n",
       "  'ஒரு நபர் ஒரு யோசனைக்காக இறக்கலாம், ஆனால் அந்த யோசனை அவரது மரணத்திற்குப் பிறகு ஆயிரம் உயிர்களில் அவதாரம் எடுக்கும் - எஸ்சி போஸ்',\n",
       "  'ஒவ்வொரு தேசத்திற்கும் வழங்க ஒரு செய்தி உள்ளது, நிறைவேற்ற ஒரு பணி, அடைய ஒரு விதி. மனித குலத்திற்கு வழிகாட்டுவதே இந்தியாவின் நோக்கம் - சுவாமி விவேகானந்தர்',\n",
       "  'உள்நோக்கத்தின் ஆழமான நேர்மையும், பேச்சில் அதிக தைரியமும், செயலில் அக்கறையும் வேண்டும் - சரோஜினி நாயுடு',\n",
       "  'இந்தியாவின் இளம் குடிமகனாக, தொழில்நுட்பம் மற்றும் எனது தேசத்தின் மீதான அன்புடன், நான் உணர்ந்தேன், ஒரு சிறிய நோக்கம் ஒரு குற்றம் - ஏபிஜே அப்துல் கலாம்',\n",
       "  'மதரீதியாகச் செய்யப்படும் ஒரு கடமை, அதனுடன் பல முக்கியமான விளைவுகளை ஏற்படுத்துகிறது - காந்தி',\n",
       "  'ஒரு மனிதனால் ஒரு உரிமையை விட்டுக்கொடுக்க முடியும், ஆனால் ஒரு பெரிய அவமதிப்புக்குக் குற்றமிழைக்காமல் அவன் கடமையை விட்டுக்கொடுக்க மாட்டான்-காந்தி',\n",
       "  'ஒரு தேசத்தின் கலாச்சாரம் அதன் மக்களின் இதயங்களிலும் உள்ளங்களிலும் உள்ளது.-காந்தி'],\n",
       " ['-अच्छी तरह से निभाया गया कर्तव्य एक समान अधिकार बनाता है।-गांधी',\n",
       "  'संविधान कितना भी अच्छा क्यों न हो, यदि उसे क्रियान्वित करने वाले अच्छे नहीं हैं तो वह बुरा ही सिद्ध होगा। संविधान कितना भी बुरा क्यों न हो, अगर उसे लागू करने वाले अच्छे हैं तो वह अच्छा साबित होगा- बीआर अंबेडकर',\n",
       "  'जब तक आप सामाजिक न्याय हासिल नहीं कर लेते, तब तक कानून आपको जो भी स्वतंत्रता प्रदान करता है, उसका कोई फायदा नहीं होगा-बीआर अंबेडकर',\n",
       "  'सामान्य प्रयास से हम देश को एक नई महानता तक ले जा सकते हैं, जबकि एकता की कमी हमें नई आपदाओं में डाल देगी-सरदार वल्लभभाई पटेल',\n",
       "  'विचार, वचन और कर्म में अहिंसा का पालन करना होगा। हमारी अहिंसा का माप ही हमारी सफलता का माप होगा-सरदार वल्लभाई पटेल',\n",
       "  'एक व्यक्ति किसी विचार के लिए मर सकता है लेकिन वह विचार उसकी मृत्यु के बाद हजारों जिंदगियों में अवतरित होगा-एससी बोस',\n",
       "  'प्रत्येक राष्ट्र के पास देने के लिए एक संदेश है, पूरा करने के लिए एक मिशन है, पहुंचने के लिए एक नियति है। भारत का मिशन मानवता का मार्गदर्शन करना रहा है-स्वामी विवेकानन्द',\n",
       "  'हम उद्देश्य की गहरी ईमानदारी, वाणी में अधिक साहस और कार्य में ईमानदारी चाहते हैं-सरोजिनी नायडू',\n",
       "  'भारत के एक युवा नागरिक के रूप में, प्रौद्योगिकी और अपने राष्ट्र के प्रति प्रेम से लैस, मुझे एहसास है, एक छोटा लक्ष्य एक अपराध है- एपीजे अब्दुल कलाम',\n",
       "  'धार्मिकतापूर्वक किया गया कर्तव्य अपने साथ कई अन्य महत्वपूर्ण परिणाम भी लाता है-गांधी',\n",
       "  'एक आदमी अपना अधिकार छोड़ सकता है, लेकिन गंभीर अपमान का दोषी हुए बिना वह अपना कर्तव्य नहीं छोड़ सकता-गांधी',\n",
       "  'किसी राष्ट्र की संस्कृति उसके लोगों के दिलों और आत्माओं में बसती है।-गांधी'],\n",
       " ['-अच्छी तरह से निभाया गया कर्तव्य एक समान अधिकार बनाता है।-गांधी',\n",
       "  'संविधान कितना भी अच्छा क्यों न हो, यदि उसे क्रियान्वित करने वाले अच्छे नहीं हैं तो वह बुरा ही सिद्ध होगा। संविधान कितना भी बुरा क्यों न हो, अगर उसे लागू करने वाले अच्छे हैं तो वह अच्छा साबित होगा- बीआर अंबेडकर',\n",
       "  'जब तक आप सामाजिक न्याय हासिल नहीं कर लेते, तब तक कानून आपको जो भी स्वतंत्रता प्रदान करता है, उसका कोई फायदा नहीं होगा-बीआर अंबेडकर',\n",
       "  'सामान्य प्रयास से हम देश को एक नई महानता तक ले जा सकते हैं, जबकि एकता की कमी हमें नई आपदाओं में डाल देगी-सरदार वल्लभभाई पटेल',\n",
       "  'विचार, वचन और कर्म में अहिंसा का पालन करना होगा। हमारी अहिंसा का माप ही हमारी सफलता का माप होगा-सरदार वल्लभाई पटेल',\n",
       "  'एक व्यक्ति किसी विचार के लिए मर सकता है लेकिन वह विचार उसकी मृत्यु के बाद हजारों जिंदगियों में अवतरित होगा-एससी बोस',\n",
       "  'प्रत्येक राष्ट्र के पास देने के लिए एक संदेश है, पूरा करने के लिए एक मिशन है, पहुंचने के लिए एक नियति है। भारत का मिशन मानवता का मार्गदर्शन करना रहा है-स्वामी विवेकानन्द',\n",
       "  'हम उद्देश्य की गहरी ईमानदारी, वाणी में अधिक साहस और कार्य में ईमानदारी चाहते हैं-सरोजिनी नायडू',\n",
       "  'भारत के एक युवा नागरिक के रूप में, प्रौद्योगिकी और अपने राष्ट्र के प्रति प्रेम से लैस, मुझे एहसास है, एक छोटा लक्ष्य एक अपराध है- एपीजे अब्दुल कलाम',\n",
       "  'धार्मिकतापूर्वक किया गया कर्तव्य अपने साथ कई अन्य महत्वपूर्ण परिणाम भी लाता है-गांधी',\n",
       "  'एक आदमी अपना अधिकार छोड़ सकता है, लेकिन गंभीर अपमान का दोषी हुए बिना वह अपना कर्तव्य नहीं छोड़ सकता-गांधी',\n",
       "  'किसी राष्ट्र की संस्कृति उसके लोगों के दिलों और आत्माओं में बसती है।-गांधी'],\n",
       " ['നന്നായി നിർവഹിക്കുന്ന ഒരു കർത്തവ്യം അതിനനുസൃതമായ അവകാശം സൃഷ്ടിക്കുന്നു.-ഗാന്ധി',\n",
       "  'ഭരണഘടന എത്ര നല്ലതാണെങ്കിലും അത് നടപ്പിലാക്കുന്നവർ നല്ലവരല്ലെങ്കിൽ അത് മോശമാണെന്ന് തെളിയും. എന്നിരുന്നാലും, ഒരു ഭരണഘടന മോശമായിരിക്കാം, അത് നടപ്പിലാക്കുന്നവർ നല്ലവരാണെങ്കിൽ, അത് നല്ലതാണെന്ന് തെളിയിക്കും - ബി ആർ അംബേദ്കർ',\n",
       "  'നിങ്ങൾ സാമൂഹ്യനീതി കൈവരിക്കാത്തിടത്തോളം കാലം, നിയമം നിങ്ങൾക്ക് എന്ത് സ്വാതന്ത്ര്യം നൽകിയാലും ഒരു പ്രയോജനവുമില്ല-ബിആർ അംബേദ്കർ',\n",
       "  'പൊതുവായ പരിശ്രമത്തിലൂടെ നമുക്ക് രാജ്യത്തെ ഒരു പുതിയ മഹത്വത്തിലേക്ക് ഉയർത്താൻ കഴിയും, അതേസമയം ഐക്യമില്ലായ്മ നമ്മെ പുതിയ വിപത്തുകളിലേക്ക് നയിക്കും - സർദാർ വല്ലഭായ് പട്ടേൽ',\n",
       "  'ചിന്തയിലും വാക്കിലും പ്രവൃത്തിയിലും അഹിംസ പാലിക്കേണ്ടതുണ്ട്. നമ്മുടെ അഹിംസയുടെ അളവുകോലായിരിക്കും നമ്മുടെ വിജയത്തിന്റെ അളവുകോൽ - സർദാർ വല്ലഭായ് പട്ടേൽ',\n",
       "  'ഒരു വ്യക്തി ഒരു ആശയത്തിന് വേണ്ടി മരിക്കാം, എന്നാൽ ആ ആശയം അവന്റെ മരണശേഷം ആയിരം ജീവിതങ്ങളിൽ അവതരിക്കും-എസ്\\u200cസി ബോസ്',\n",
       "  'ഓരോ രാജ്യത്തിനും കൈമാറാൻ ഒരു സന്ദേശം ഉണ്ട്, നിറവേറ്റാൻ ഒരു ദൗത്യമുണ്ട്, എത്തിച്ചേരാൻ ഒരു വിധിയുണ്ട്. ഇന്ത്യയുടെ ദൗത്യം മാനവികതയെ നയിക്കുക എന്നതാണ് - സ്വാമി വിവേകാനന്ദൻ',\n",
       "  'പ്രേരണയുടെ ആഴത്തിലുള്ള ആത്മാർത്ഥതയും സംസാരത്തിൽ കൂടുതൽ ധൈര്യവും പ്രവർത്തനത്തിൽ ആത്മാർത്ഥതയും വേണം - സരോജിനി നായിഡു',\n",
       "  'സാങ്കേതികവിദ്യയും എന്റെ രാഷ്ട്രത്തോടുള്ള സ്നേഹവും കൊണ്ട് സായുധരായ ഇന്ത്യയിലെ ഒരു യുവ പൗരൻ എന്ന നിലയിൽ, ഒരു ചെറിയ ലക്ഷ്യം കുറ്റകൃത്യമാണെന്ന് ഞാൻ മനസ്സിലാക്കുന്നു- എപിജെ അബ്ദുൾ കലാം',\n",
       "  'മതപരമായി നിർവഹിക്കപ്പെടുന്ന ഒരു കർത്തവ്യം മറ്റു പല സുപ്രധാനമായ അനന്തരഫലങ്ങളും വഹിക്കുന്നു-ഗാന്ധി',\n",
       "  'ഒരു മനുഷ്യന് ഒരു അവകാശം ഉപേക്ഷിക്കാൻ കഴിയും, എന്നാൽ ഗുരുതരമായ അവഗണനയിൽ കുറ്റക്കാരനല്ലാത്ത ഒരു കടമ ഉപേക്ഷിക്കാൻ കഴിയില്ല-ഗാന്ധി',\n",
       "  'ഒരു രാഷ്ട്രത്തിന്റെ സംസ്കാരം കുടികൊള്ളുന്നത് അവിടുത്തെ ജനങ്ങളുടെ ഹൃദയത്തിലും ആത്മാവിലുമാണ്.-ഗാന്ധി'],\n",
       " ['ఒక కర్తవ్యం సక్రమంగా నిర్వర్తిస్తే సంబంధిత హక్కును సృష్టిస్తుంది.-గాంధీ',\n",
       "  'రాజ్యాంగం ఎంత మంచిదైనా, దానిని అమలు చేస్తున్న వారు మంచివారు కాకపోతే, అది చెడ్డదని రుజువవుతుంది. రాజ్యాంగం చెడ్డది కావచ్చు, దానిని అమలు చేసేవారు మంచివారైతే, అది మంచిదని రుజువు అవుతుంది - బిఆర్ అంబేద్కర్',\n",
       "  'మీరు సామాజిక న్యాయం సాధించనంత కాలం చట్టం ద్వారా మీకు ఎలాంటి స్వేచ్ఛ కల్పించినా ప్రయోజనం ఉండదు-బీఆర్ అంబేద్కర్',\n",
       "  'ఉమ్మడి ప్రయత్నం ద్వారా మనం దేశాన్ని కొత్త గొప్పతనానికి తీసుకురాగలం, అయితే ఐక్యత లేకపోవడం వల్ల మనల్ని తాజా విపత్తులకు గురి చేస్తుంది-సర్దార్ వల్లభాయ్ పటేల్',\n",
       "  'ఆలోచన, మాట, చేతల్లో అహింస పాటించాలి. మన అహింస కొలమానమే మన విజయానికి కొలమానం-సర్దార్ వల్లభాయ్ పటేల్',\n",
       "  'ఒక వ్యక్తి ఒక ఆలోచన కోసం చనిపోవచ్చు కానీ ఆ ఆలోచన అతని మరణానంతరం వెయ్యి జీవితాల్లో అవతరిస్తుంది-SC బోస్',\n",
       "  'ప్రతి దేశానికి అందించాల్సిన సందేశం, నెరవేర్చడానికి ఒక లక్ష్యం, చేరుకోవడానికి ఒక విధి ఉంటుంది. మానవాళికి మార్గనిర్దేశం చేయడమే భారతదేశ లక్ష్యం-స్వామి వివేకానంద',\n",
       "  'మేము ఉద్దేశ్యం యొక్క లోతైన చిత్తశుద్ధి, ప్రసంగంలో గొప్ప ధైర్యం మరియు చర్యలో గంభీరత కావాలి - సరోజినీ నాయుడు',\n",
       "  'భారతదేశపు యువ పౌరుడిగా, సాంకేతిక పరిజ్ఞానం మరియు నా దేశం పట్ల ప్రేమతో, నేను గ్రహించాను, ఒక చిన్న లక్ష్యం నేరమని- APJ అబ్దుల్ కలాం',\n",
       "  'మతపరంగా నిర్వహించే విధి అనేక ఇతర ముఖ్యమైన పరిణామాలను కలిగి ఉంటుంది-గాంధీ',\n",
       "  'ఒక వ్యక్తి హక్కును వదులుకోగలడు, కానీ ఘోరమైన అవమానానికి పాల్పడకుండా విధిని వదులుకోలేడు-గాంధీ',\n",
       "  'ఒక దేశం యొక్క సంస్కృతి దాని ప్రజల హృదయాలలో మరియు ఆత్మలలో నివసిస్తుంది.-గాంధీ'])"
      ]
     },
     "execution_count": 38,
     "metadata": {},
     "output_type": "execute_result"
    }
   ],
   "source": [
    "converted_ta,converted_mr,converted_hi,converted_ml,converted_te"
   ]
  },
  {
   "cell_type": "code",
   "execution_count": 2,
   "metadata": {},
   "outputs": [],
   "source": [
    "from gtts import gTTS"
   ]
  },
  {
   "cell_type": "code",
   "execution_count": 1,
   "metadata": {},
   "outputs": [
    {
     "name": "stdout",
     "output_type": "stream",
     "text": [
      "Requirement already satisfied: gtts in c:\\users\\pradh\\appdata\\local\\programs\\python\\python311\\lib\\site-packages (2.3.2)\n",
      "Requirement already satisfied: requests<3,>=2.27 in c:\\users\\pradh\\appdata\\local\\programs\\python\\python311\\lib\\site-packages (from gtts) (2.31.0)\n",
      "Requirement already satisfied: click<8.2,>=7.1 in c:\\users\\pradh\\appdata\\local\\programs\\python\\python311\\lib\\site-packages (from gtts) (8.1.7)\n",
      "Requirement already satisfied: colorama in c:\\users\\pradh\\appdata\\local\\programs\\python\\python311\\lib\\site-packages (from click<8.2,>=7.1->gtts) (0.4.6)\n",
      "Requirement already satisfied: charset-normalizer<4,>=2 in c:\\users\\pradh\\appdata\\local\\programs\\python\\python311\\lib\\site-packages (from requests<3,>=2.27->gtts) (3.2.0)\n",
      "Requirement already satisfied: idna<4,>=2.5 in c:\\users\\pradh\\appdata\\local\\programs\\python\\python311\\lib\\site-packages (from requests<3,>=2.27->gtts) (2.10)\n",
      "Requirement already satisfied: urllib3<3,>=1.21.1 in c:\\users\\pradh\\appdata\\local\\programs\\python\\python311\\lib\\site-packages (from requests<3,>=2.27->gtts) (2.0.5)\n",
      "Requirement already satisfied: certifi>=2017.4.17 in c:\\users\\pradh\\appdata\\local\\programs\\python\\python311\\lib\\site-packages (from requests<3,>=2.27->gtts) (2023.7.22)\n"
     ]
    }
   ],
   "source": [
    "!pip install gtts"
   ]
  },
  {
   "cell_type": "code",
   "execution_count": 9,
   "metadata": {},
   "outputs": [],
   "source": [
    "trans=Translator(service_urls=['translate.googleapis.com'])\n",
    "target=trans.translate(\" Money inflation\",dest=\"ta\")\n",
    "tts = gTTS(target.text,lang=\"ta\")\n",
    "tts.save('processedFile-inflation.mp3')"
   ]
  },
  {
   "cell_type": "code",
   "execution_count": 10,
   "metadata": {},
   "outputs": [
    {
     "data": {
      "text/plain": [
       "'பண வீக்கம்'"
      ]
     },
     "execution_count": 10,
     "metadata": {},
     "output_type": "execute_result"
    }
   ],
   "source": [
    "target.text"
   ]
  },
  {
   "cell_type": "code",
   "execution_count": 3,
   "metadata": {},
   "outputs": [],
   "source": [
    "def a():\n",
    "    try:\n",
    "        a=1\n",
    "        return a\n",
    "    except:\n",
    "        print('a')\n",
    "    finally:\n",
    "        a=2\n",
    "        print(a)\n"
   ]
  },
  {
   "cell_type": "code",
   "execution_count": 4,
   "metadata": {},
   "outputs": [
    {
     "name": "stdout",
     "output_type": "stream",
     "text": [
      "2\n"
     ]
    },
    {
     "data": {
      "text/plain": [
       "1"
      ]
     },
     "execution_count": 4,
     "metadata": {},
     "output_type": "execute_result"
    }
   ],
   "source": [
    "a()"
   ]
  },
  {
   "cell_type": "code",
   "execution_count": null,
   "metadata": {},
   "outputs": [],
   "source": []
  }
 ],
 "metadata": {
  "kernelspec": {
   "display_name": "Python 3.11.5 64-bit",
   "language": "python",
   "name": "python3"
  },
  "language_info": {
   "codemirror_mode": {
    "name": "ipython",
    "version": 3
   },
   "file_extension": ".py",
   "mimetype": "text/x-python",
   "name": "python",
   "nbconvert_exporter": "python",
   "pygments_lexer": "ipython3",
   "version": "3.11.4"
  },
  "orig_nbformat": 4,
  "vscode": {
   "interpreter": {
    "hash": "07fcbc389848b08712e31e49e1219aa314f7811e9f86223e454c696ab3c3f9c4"
   }
  }
 },
 "nbformat": 4,
 "nbformat_minor": 2
}
